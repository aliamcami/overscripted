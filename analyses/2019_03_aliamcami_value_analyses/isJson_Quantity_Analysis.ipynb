{
 "cells": [
  {
   "cell_type": "markdown",
   "metadata": {},
   "source": [
    "# Start client"
   ]
  },
  {
   "cell_type": "code",
   "execution_count": 2,
   "metadata": {},
   "outputs": [
    {
     "name": "stderr",
     "output_type": "stream",
     "text": [
      "/anaconda3/envs/overscripted/lib/python3.6/site-packages/dask/config.py:168: YAMLLoadWarning: calling yaml.load() without Loader=... is deprecated, as the default Loader is unsafe. Please read https://msg.pyyaml.org/load for full details.\n",
      "  data = yaml.load(f.read()) or {}\n",
      "/anaconda3/envs/overscripted/lib/python3.6/site-packages/distributed/config.py:20: YAMLLoadWarning: calling yaml.load() without Loader=... is deprecated, as the default Loader is unsafe. Please read https://msg.pyyaml.org/load for full details.\n",
      "  defaults = yaml.load(f)\n"
     ]
    },
    {
     "data": {
      "text/html": [
       "<table style=\"border: 2px solid white;\">\n",
       "<tr>\n",
       "<td style=\"vertical-align: top; border: 0px solid white\">\n",
       "<h3>Client</h3>\n",
       "<ul>\n",
       "  <li><b>Scheduler: </b>tcp://127.0.0.1:51384\n",
       "  <li><b>Dashboard: </b><a href='http://127.0.0.1:8787/status' target='_blank'>http://127.0.0.1:8787/status</a>\n",
       "</ul>\n",
       "</td>\n",
       "<td style=\"vertical-align: top; border: 0px solid white\">\n",
       "<h3>Cluster</h3>\n",
       "<ul>\n",
       "  <li><b>Workers: </b>4</li>\n",
       "  <li><b>Cores: </b>4</li>\n",
       "  <li><b>Memory: </b>8.59 GB</li>\n",
       "</ul>\n",
       "</td>\n",
       "</tr>\n",
       "</table>"
      ],
      "text/plain": [
       "<Client: scheduler='tcp://127.0.0.1:51384' processes=4 cores=4>"
      ]
     },
     "execution_count": 2,
     "metadata": {},
     "output_type": "execute_result"
    }
   ],
   "source": [
    "import dask.dataframe as dd\n",
    "from dask.distributed import Client\n",
    "\n",
    "#Initializing client\n",
    "client = Client()\n",
    "client"
   ]
  },
  {
   "cell_type": "markdown",
   "metadata": {},
   "source": [
    "# Data\n",
    "Using filtered and evaluated for json data named 'is_json_above_mean.parquet'. You can get this by running the 'isJson_dataPrep.ipynb'\n",
    "\n",
    "This new sample has 499805, meaning that its only 4,42% of the original sample (most values are smaller than the sample's mean of 1356)"
   ]
  },
  {
   "cell_type": "code",
   "execution_count": 3,
   "metadata": {},
   "outputs": [
    {
     "data": {
      "text/html": [
       "<div>\n",
       "<style scoped>\n",
       "    .dataframe tbody tr th:only-of-type {\n",
       "        vertical-align: middle;\n",
       "    }\n",
       "\n",
       "    .dataframe tbody tr th {\n",
       "        vertical-align: top;\n",
       "    }\n",
       "\n",
       "    .dataframe thead th {\n",
       "        text-align: right;\n",
       "    }\n",
       "</style>\n",
       "<table border=\"1\" class=\"dataframe\">\n",
       "  <thead>\n",
       "    <tr style=\"text-align: right;\">\n",
       "      <th></th>\n",
       "      <th>value_1000</th>\n",
       "      <th>value</th>\n",
       "      <th>value_len</th>\n",
       "      <th>symbol</th>\n",
       "      <th>script_url</th>\n",
       "      <th>is_json</th>\n",
       "    </tr>\n",
       "  </thead>\n",
       "  <tbody>\n",
       "    <tr>\n",
       "      <th>0</th>\n",
       "      <td>{\"im-settings\":\"{\\\"val\\\":{\\\"settings\\\":{\\\"Site...</td>\n",
       "      <td>{\"im-settings\":\"{\\\"val\\\":{\\\"settings\\\":{\\\"Site...</td>\n",
       "      <td>3713</td>\n",
       "      <td>window.sessionStorage</td>\n",
       "      <td>https://assets.adobedtm.com/caacec67651710193d...</td>\n",
       "      <td>True</td>\n",
       "    </tr>\n",
       "    <tr>\n",
       "      <th>1</th>\n",
       "      <td>{\"APLUS_S_CORE_0.17.12_20171214163401_2ee09a0c...</td>\n",
       "      <td>{\"APLUS_S_CORE_0.17.12_20171214163401_2ee09a0c...</td>\n",
       "      <td>103878</td>\n",
       "      <td>window.localStorage</td>\n",
       "      <td>https://g.alicdn.com/alilog/mlog/aplus_v2.js</td>\n",
       "      <td>True</td>\n",
       "    </tr>\n",
       "    <tr>\n",
       "      <th>2</th>\n",
       "      <td>{\"APLUS_S_CORE_0.17.12_20171214163401_2ee09a0c...</td>\n",
       "      <td>{\"APLUS_S_CORE_0.17.12_20171214163401_2ee09a0c...</td>\n",
       "      <td>103878</td>\n",
       "      <td>window.localStorage</td>\n",
       "      <td>https://g.alicdn.com/alilog/mlog/aplus_v2.js</td>\n",
       "      <td>True</td>\n",
       "    </tr>\n",
       "    <tr>\n",
       "      <th>3</th>\n",
       "      <td>usunico=17/12/2017:0-00155123:830; SessionASM=...</td>\n",
       "      <td>usunico=17/12/2017:0-00155123:830; SessionASM=...</td>\n",
       "      <td>1358</td>\n",
       "      <td>window.document.cookie</td>\n",
       "      <td>https://www.coches.net/scripts/common.min.js?2...</td>\n",
       "      <td>False</td>\n",
       "    </tr>\n",
       "    <tr>\n",
       "      <th>4</th>\n",
       "      <td>usunico=17/12/2017:0-00155123:830; SessionASM=...</td>\n",
       "      <td>usunico=17/12/2017:0-00155123:830; SessionASM=...</td>\n",
       "      <td>1358</td>\n",
       "      <td>window.document.cookie</td>\n",
       "      <td>https://www.coches.net/scripts/common.min.js?2...</td>\n",
       "      <td>False</td>\n",
       "    </tr>\n",
       "  </tbody>\n",
       "</table>\n",
       "</div>"
      ],
      "text/plain": [
       "                                          value_1000  \\\n",
       "0  {\"im-settings\":\"{\\\"val\\\":{\\\"settings\\\":{\\\"Site...   \n",
       "1  {\"APLUS_S_CORE_0.17.12_20171214163401_2ee09a0c...   \n",
       "2  {\"APLUS_S_CORE_0.17.12_20171214163401_2ee09a0c...   \n",
       "3  usunico=17/12/2017:0-00155123:830; SessionASM=...   \n",
       "4  usunico=17/12/2017:0-00155123:830; SessionASM=...   \n",
       "\n",
       "                                               value  value_len  \\\n",
       "0  {\"im-settings\":\"{\\\"val\\\":{\\\"settings\\\":{\\\"Site...       3713   \n",
       "1  {\"APLUS_S_CORE_0.17.12_20171214163401_2ee09a0c...     103878   \n",
       "2  {\"APLUS_S_CORE_0.17.12_20171214163401_2ee09a0c...     103878   \n",
       "3  usunico=17/12/2017:0-00155123:830; SessionASM=...       1358   \n",
       "4  usunico=17/12/2017:0-00155123:830; SessionASM=...       1358   \n",
       "\n",
       "                   symbol                                         script_url  \\\n",
       "0   window.sessionStorage  https://assets.adobedtm.com/caacec67651710193d...   \n",
       "1     window.localStorage       https://g.alicdn.com/alilog/mlog/aplus_v2.js   \n",
       "2     window.localStorage       https://g.alicdn.com/alilog/mlog/aplus_v2.js   \n",
       "3  window.document.cookie  https://www.coches.net/scripts/common.min.js?2...   \n",
       "4  window.document.cookie  https://www.coches.net/scripts/common.min.js?2...   \n",
       "\n",
       "   is_json  \n",
       "0     True  \n",
       "1     True  \n",
       "2     True  \n",
       "3    False  \n",
       "4    False  "
      ]
     },
     "execution_count": 3,
     "metadata": {},
     "output_type": "execute_result"
    }
   ],
   "source": [
    "df = dd.read_parquet('is_json_above_mean.parquet')\n",
    "df.head()"
   ]
  },
  {
   "cell_type": "markdown",
   "metadata": {},
   "source": [
    "## DF overview\n",
    "Some overview about the sample after the data prep: \n",
    "- Rows: 499805\n",
    "- Mean: 27829.33,\n",
    "- Min: 1357,\n",
    "- Max: 4496861\n",
    "- Std: 122092.41"
   ]
  },
  {
   "cell_type": "code",
   "execution_count": 4,
   "metadata": {},
   "outputs": [
    {
     "name": "stdout",
     "output_type": "stream",
     "text": [
      "27829.332847810645 1357 4496861 122092.41371885882\n"
     ]
    }
   ],
   "source": [
    "df_mean = df['value_len'].mean()\n",
    "df_min = df['value_len'].min()\n",
    "df_max = df['value_len'].max()\n",
    "df_std = df['value_len'].std()\n",
    "(df_mean, df_min, df_max, df_std) = dd.compute(df_mean, df_min, df_max, df_std);\n",
    "print(df_mean, df_min, df_max, df_std)"
   ]
  },
  {
   "cell_type": "markdown",
   "metadata": {},
   "source": [
    "# Quantity analysis "
   ]
  },
  {
   "cell_type": "markdown",
   "metadata": {},
   "source": [
    "## Whole\n",
    "This whole sample has: \n",
    "- False: 307577 rows\n",
    "    - 61,54% are not valid JSON\n",
    "    \n",
    "    \n",
    "- True: 192228 rows\n",
    "    - 38,46% are valid JSON"
   ]
  },
  {
   "cell_type": "code",
   "execution_count": 7,
   "metadata": {},
   "outputs": [
    {
     "data": {
      "text/plain": [
       "False    307577\n",
       "True     192228\n",
       "Name: is_json, dtype: int64"
      ]
     },
     "execution_count": 7,
     "metadata": {},
     "output_type": "execute_result"
    }
   ],
   "source": [
    "df['is_json'].value_counts().compute()\n"
   ]
  },
  {
   "cell_type": "markdown",
   "metadata": {},
   "source": [
    "## ORIGINAL SAMPLE: One std above the mean\n",
    "Original Sample Data: \n",
    "- Mean: 1356.97\n",
    "- Std: 26310.62\n",
    "\n",
    "I'll be using the original sample's mean and std to make the following analyses\n"
   ]
  },
  {
   "cell_type": "code",
   "execution_count": 14,
   "metadata": {},
   "outputs": [],
   "source": [
    "ROW_COUNT = 499805\n",
    "MEAN = 1356\n",
    "STD = 26310"
   ]
  },
  {
   "cell_type": "markdown",
   "metadata": {},
   "source": [
    "\n",
    "- 46745 rows have the value_len greater than 27666\n",
    "- This represent 9.35% of the rows on this sample\n",
    "\n",
    "As the value_len increases the percentage of valid JSON on the columns 'value' also increases, for this filtered sample the following data was verified: \n",
    "- True: 46691 rows\n",
    "    - 99,88% are valid JSON\n",
    "    \n",
    "- False: 54 rows\n",
    "    - 0,11% are not valid JSON\n"
   ]
  },
  {
   "cell_type": "code",
   "execution_count": 22,
   "metadata": {},
   "outputs": [
    {
     "name": "stdout",
     "output_type": "stream",
     "text": [
      "len: 46745 (9.35%)\n"
     ]
    }
   ],
   "source": [
    "dfa = df[df['value_len'] > (MEAN + STD)]\n",
    "length = len(dfa)\n",
    "print(\"len: {0} ({1:0.2f}%)\".format(length, length / ROW_COUNT * 100))"
   ]
  },
  {
   "cell_type": "code",
   "execution_count": 23,
   "metadata": {},
   "outputs": [
    {
     "data": {
      "text/plain": [
       "True     46691\n",
       "False       54\n",
       "Name: is_json, dtype: int64"
      ]
     },
     "execution_count": 23,
     "metadata": {},
     "output_type": "execute_result"
    }
   ],
   "source": [
    "dfa['is_json'].value_counts().compute()"
   ]
  },
  {
   "cell_type": "markdown",
   "metadata": {},
   "source": [
    "## All greater values are JSON\n",
    "\n",
    "There is absolute no value greater than 104653 that represents a valid JSON. \n",
    "\n",
    "This implies that all the greater values are JSON but they represent very low percentage of the whole data. \n",
    "\n",
    "The top 46745 gratest value_len are valid JSONs, that is 9.35% of this sample (value_len > mean) and 0,41% of the original sample with all the smaller values. "
   ]
  },
  {
   "cell_type": "code",
   "execution_count": 34,
   "metadata": {},
   "outputs": [],
   "source": [
    "group = dfa.groupby('is_json')\n",
    "group_result = group.agg({'value_len': ['mean', 'std', 'min', 'max', 'count']}).compute()"
   ]
  },
  {
   "cell_type": "code",
   "execution_count": 36,
   "metadata": {},
   "outputs": [
    {
     "data": {
      "text/html": [
       "<div>\n",
       "<style scoped>\n",
       "    .dataframe tbody tr th:only-of-type {\n",
       "        vertical-align: middle;\n",
       "    }\n",
       "\n",
       "    .dataframe tbody tr th {\n",
       "        vertical-align: top;\n",
       "    }\n",
       "\n",
       "    .dataframe thead tr th {\n",
       "        text-align: left;\n",
       "    }\n",
       "\n",
       "    .dataframe thead tr:last-of-type th {\n",
       "        text-align: right;\n",
       "    }\n",
       "</style>\n",
       "<table border=\"1\" class=\"dataframe\">\n",
       "  <thead>\n",
       "    <tr>\n",
       "      <th></th>\n",
       "      <th colspan=\"5\" halign=\"left\">value_len</th>\n",
       "    </tr>\n",
       "    <tr>\n",
       "      <th></th>\n",
       "      <th>mean</th>\n",
       "      <th>std</th>\n",
       "      <th>min</th>\n",
       "      <th>max</th>\n",
       "      <th>count</th>\n",
       "    </tr>\n",
       "    <tr>\n",
       "      <th>is_json</th>\n",
       "      <th></th>\n",
       "      <th></th>\n",
       "      <th></th>\n",
       "      <th></th>\n",
       "      <th></th>\n",
       "    </tr>\n",
       "  </thead>\n",
       "  <tbody>\n",
       "    <tr>\n",
       "      <th>False</th>\n",
       "      <td>82460.055556</td>\n",
       "      <td>13627.118063</td>\n",
       "      <td>28135</td>\n",
       "      <td>104653</td>\n",
       "      <td>54</td>\n",
       "    </tr>\n",
       "    <tr>\n",
       "      <th>True</th>\n",
       "      <td>271422.740185</td>\n",
       "      <td>412552.298613</td>\n",
       "      <td>27669</td>\n",
       "      <td>4496861</td>\n",
       "      <td>46691</td>\n",
       "    </tr>\n",
       "  </tbody>\n",
       "</table>\n",
       "</div>"
      ],
      "text/plain": [
       "             value_len                                      \n",
       "                  mean            std    min      max  count\n",
       "is_json                                                     \n",
       "False     82460.055556   13627.118063  28135   104653     54\n",
       "True     271422.740185  412552.298613  27669  4496861  46691"
      ]
     },
     "execution_count": 36,
     "metadata": {},
     "output_type": "execute_result"
    }
   ],
   "source": [
    "group_result"
   ]
  },
  {
   "cell_type": "code",
   "execution_count": 37,
   "metadata": {},
   "outputs": [
    {
     "name": "stdout",
     "output_type": "stream",
     "text": [
      "len: 46745 (9.35%)\n"
     ]
    }
   ],
   "source": [
    "allJson = df[df['value_len'] > 104653]\n",
    "length = len(dfa)\n",
    "print(\"len: {0} ({1:0.2f}%)\".format(length, length / ROW_COUNT * 100))"
   ]
  }
 ],
 "metadata": {
  "kernelspec": {
   "display_name": "Python 3",
   "language": "python",
   "name": "python3"
  },
  "language_info": {
   "codemirror_mode": {
    "name": "ipython",
    "version": 3
   },
   "file_extension": ".py",
   "mimetype": "text/x-python",
   "name": "python",
   "nbconvert_exporter": "python",
   "pygments_lexer": "ipython3",
   "version": "3.6.8"
  }
 },
 "nbformat": 4,
 "nbformat_minor": 2
}
