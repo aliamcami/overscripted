{
 "cells": [
  {
   "cell_type": "markdown",
   "metadata": {},
   "source": [
    "# Start dask"
   ]
  },
  {
   "cell_type": "code",
   "execution_count": 1,
   "metadata": {},
   "outputs": [
    {
     "name": "stderr",
     "output_type": "stream",
     "text": [
      "/anaconda3/envs/overscripted/lib/python3.6/site-packages/dask/config.py:168: YAMLLoadWarning: calling yaml.load() without Loader=... is deprecated, as the default Loader is unsafe. Please read https://msg.pyyaml.org/load for full details.\n",
      "  data = yaml.load(f.read()) or {}\n",
      "/anaconda3/envs/overscripted/lib/python3.6/site-packages/distributed/config.py:20: YAMLLoadWarning: calling yaml.load() without Loader=... is deprecated, as the default Loader is unsafe. Please read https://msg.pyyaml.org/load for full details.\n",
      "  defaults = yaml.load(f)\n"
     ]
    },
    {
     "data": {
      "text/html": [
       "<table style=\"border: 2px solid white;\">\n",
       "<tr>\n",
       "<td style=\"vertical-align: top; border: 0px solid white\">\n",
       "<h3>Client</h3>\n",
       "<ul>\n",
       "  <li><b>Scheduler: </b>tcp://127.0.0.1:49323\n",
       "  <li><b>Dashboard: </b><a href='http://127.0.0.1:8787/status' target='_blank'>http://127.0.0.1:8787/status</a>\n",
       "</ul>\n",
       "</td>\n",
       "<td style=\"vertical-align: top; border: 0px solid white\">\n",
       "<h3>Cluster</h3>\n",
       "<ul>\n",
       "  <li><b>Workers: </b>4</li>\n",
       "  <li><b>Cores: </b>4</li>\n",
       "  <li><b>Memory: </b>8.59 GB</li>\n",
       "</ul>\n",
       "</td>\n",
       "</tr>\n",
       "</table>"
      ],
      "text/plain": [
       "<Client: scheduler='tcp://127.0.0.1:49323' processes=4 cores=4>"
      ]
     },
     "execution_count": 1,
     "metadata": {},
     "output_type": "execute_result"
    }
   ],
   "source": [
    "import dask.dataframe as dd\n",
    "from dask.distributed import Client\n",
    "\n",
    "#Initializing client\n",
    "client = Client()\n",
    "client"
   ]
  },
  {
   "cell_type": "markdown",
   "metadata": {},
   "source": [
    "# Data\n",
    "This notebook starts using 'is_json_above_bean.parquet', this is a filtered data that you can get by running the data preparation notebook called 'jsJson_dataPrep.ipynb'. \n",
    "This parquet contains the 10% sample data filtered by values above the mean of value_len. \n",
    "\n",
    "This new sample has 499805 rows, meaning that its only 4,42% of the original sample (most values are smaller than the sample's mean of 1356). "
   ]
  },
  {
   "cell_type": "code",
   "execution_count": 2,
   "metadata": {},
   "outputs": [
    {
     "data": {
      "text/html": [
       "<div>\n",
       "<style scoped>\n",
       "    .dataframe tbody tr th:only-of-type {\n",
       "        vertical-align: middle;\n",
       "    }\n",
       "\n",
       "    .dataframe tbody tr th {\n",
       "        vertical-align: top;\n",
       "    }\n",
       "\n",
       "    .dataframe thead th {\n",
       "        text-align: right;\n",
       "    }\n",
       "</style>\n",
       "<table border=\"1\" class=\"dataframe\">\n",
       "  <thead>\n",
       "    <tr style=\"text-align: right;\">\n",
       "      <th></th>\n",
       "      <th>value_len</th>\n",
       "      <th>is_json</th>\n",
       "    </tr>\n",
       "  </thead>\n",
       "  <tbody>\n",
       "    <tr>\n",
       "      <th>0</th>\n",
       "      <td>3713</td>\n",
       "      <td>True</td>\n",
       "    </tr>\n",
       "    <tr>\n",
       "      <th>1</th>\n",
       "      <td>103878</td>\n",
       "      <td>True</td>\n",
       "    </tr>\n",
       "    <tr>\n",
       "      <th>2</th>\n",
       "      <td>103878</td>\n",
       "      <td>True</td>\n",
       "    </tr>\n",
       "    <tr>\n",
       "      <th>3</th>\n",
       "      <td>1358</td>\n",
       "      <td>False</td>\n",
       "    </tr>\n",
       "    <tr>\n",
       "      <th>4</th>\n",
       "      <td>1358</td>\n",
       "      <td>False</td>\n",
       "    </tr>\n",
       "  </tbody>\n",
       "</table>\n",
       "</div>"
      ],
      "text/plain": [
       "   value_len  is_json\n",
       "0       3713     True\n",
       "1     103878     True\n",
       "2     103878     True\n",
       "3       1358    False\n",
       "4       1358    False"
      ]
     },
     "execution_count": 2,
     "metadata": {},
     "output_type": "execute_result"
    }
   ],
   "source": [
    "df = dd.read_parquet('is_json_above_mean.parquet', columns=['value_len', 'is_json'])\n",
    "df.head()"
   ]
  },
  {
   "cell_type": "markdown",
   "metadata": {},
   "source": [
    "# Visualization: "
   ]
  },
  {
   "cell_type": "code",
   "execution_count": 3,
   "metadata": {},
   "outputs": [
    {
     "name": "stderr",
     "output_type": "stream",
     "text": [
      "/anaconda3/envs/overscripted/lib/python3.6/site-packages/distributed/worker.py:2791: UserWarning: Large object of size 1.89 MB detected in task graph: \n",
      "  (<dask.bytes.local.LocalFileSystem object at 0x121 ... n': 'is_json'})\n",
      "Consider scattering large objects ahead of time\n",
      "with client.scatter to reduce scheduler burden and \n",
      "keep data on workers\n",
      "\n",
      "    future = client.submit(func, big_data)    # bad\n",
      "\n",
      "    big_future = client.scatter(big_data)     # good\n",
      "    future = client.submit(func, big_future)  # good\n",
      "  % (format_bytes(len(b)), s))\n"
     ]
    }
   ],
   "source": [
    "cdf = df.compute()"
   ]
  },
  {
   "cell_type": "markdown",
   "metadata": {},
   "source": [
    "The absolute majority of the values are on the small side for the sample (left side of graph below)"
   ]
  },
  {
   "cell_type": "code",
   "execution_count": 5,
   "metadata": {},
   "outputs": [
    {
     "data": {
      "text/plain": [
       "<matplotlib.axes._subplots.AxesSubplot at 0x123eb8dd8>"
      ]
     },
     "execution_count": 5,
     "metadata": {},
     "output_type": "execute_result"
    },
    {
     "data": {
      "image/png": "[encoded data removed]",
      "text/plain": [
       "<Figure size 432x288 with 1 Axes>"
      ]
     },
     "metadata": {
      "needs_background": "light"
     },
     "output_type": "display_data"
    }
   ],
   "source": [
    "cdf['value_len'].plot(kind='hist', legend=True)"
   ]
  },
  {
   "cell_type": "code",
   "execution_count": 6,
   "metadata": {},
   "outputs": [],
   "source": [
    "jsonGroup = cdf.groupby('is_json')"
   ]
  },
  {
   "cell_type": "markdown",
   "metadata": {},
   "source": [
    "And we cannot identify any non_json (blue) on the right side of the histogram. This means there all frquency of non-json values are very low or inexistent for the biggest values. Since there are so many small values, the biggest ones represent such a small portion that is hard to identify by look on the histograms and graphs. "
   ]
  },
  {
   "cell_type": "code",
   "execution_count": 7,
   "metadata": {},
   "outputs": [
    {
     "data": {
      "text/plain": [
       "is_json\n",
       "False    AxesSubplot(0.125,0.125;0.775x0.755)\n",
       "True     AxesSubplot(0.125,0.125;0.775x0.755)\n",
       "Name: value_len, dtype: object"
      ]
     },
     "execution_count": 7,
     "metadata": {},
     "output_type": "execute_result"
    },
    {
     "data": {
      "image/png": "[encoded data removed]",
      "text/plain": [
       "<Figure size 432x288 with 1 Axes>"
      ]
     },
     "metadata": {
      "needs_background": "light"
     },
     "output_type": "display_data"
    }
   ],
   "source": [
    "jsonGroup['value_len'].plot(kind='hist', legend=True)"
   ]
  },
  {
   "cell_type": "markdown",
   "metadata": {},
   "source": [
    "## Sample overview\n",
    "Some overview about the sample after the data prep: \n",
    "- Rows: 499805\n",
    "- Mean: 27829.33,\n",
    "- Min: 1357,\n",
    "- Max: 4496861\n",
    "- Std: 122092.41"
   ]
  },
  {
   "cell_type": "code",
   "execution_count": 8,
   "metadata": {},
   "outputs": [],
   "source": [
    "#Hardcoded data to fast use, but your can update for the calculed value within the next few cells \n",
    "MEAN = 27829.33\n",
    "MIN = 1357\n",
    "MAX = 4496861\n",
    "STD = 122092.41\n",
    "COUNT = 499805\n",
    "\n",
    "#Information for original sample.\n",
    "ORIG_MEAN = 1356.97\n",
    "ORIG_MIN = 0\n",
    "ORIG_MAX = 4496861\n",
    "ORIG_STD = 26310.62\n",
    "ORIG_COUNT = 11292867\n",
    "\n",
    "#hardcoded information about described data for values one std above the mean: \n",
    "A_MEAN = 271204.44\n",
    "A_MIN = 27669\n",
    "A_MAX = 4496861\n",
    "A_STD = 306555\n",
    "A_COUNT = 46745"
   ]
  },
  {
   "cell_type": "code",
   "execution_count": 9,
   "metadata": {},
   "outputs": [],
   "source": [
    "def describedData(df):\n",
    "    tmp_mean = df['value_len'].mean()\n",
    "    tmp_min = df['value_len'].min()\n",
    "    tmp_max = df['value_len'].max()\n",
    "    tmp_std = df['value_len'].std()\n",
    "    tmp_count = df['value_len'].count()\n",
    "    (tmp_mean, tmp_min, tmp_max, tmp_std, tmp_count) = dd.compute(tmp_mean, tmp_min, tmp_max, tmp_std, tmp_count);\n",
    "    return (tmp_mean, tmp_min, tmp_max, tmp_std, tmp_count)"
   ]
  },
  {
   "cell_type": "code",
   "execution_count": 10,
   "metadata": {},
   "outputs": [
    {
     "name": "stdout",
     "output_type": "stream",
     "text": [
      "27829.332847810645 1357 4496861 122092.41371885882 499805\n"
     ]
    }
   ],
   "source": [
    "#Calculate the described data for mean sample\n",
    "(MEAN, MIN, MAX, STD, COUNT) = describedData(df)\n",
    "print(MEAN, MIN, MAX, STD, COUNT)"
   ]
  },
  {
   "cell_type": "code",
   "execution_count": 11,
   "metadata": {},
   "outputs": [
    {
     "name": "stdout",
     "output_type": "stream",
     "text": [
      "1356.9776628910975 0 4496861 26310.62140481331 11292867\n"
     ]
    }
   ],
   "source": [
    "#Calculate the described data for original sample\n",
    "(ORIG_MEAN, ORIG_MIN, ORIG_MAX, ORIG_STD, ORIG_COUNT) = describedData(dd.read_parquet('sample_0.parquet'))\n",
    "print(ORIG_MEAN, ORIG_MIN, ORIG_MAX, ORIG_STD, ORIG_COUNT)"
   ]
  },
  {
   "cell_type": "code",
   "execution_count": 12,
   "metadata": {},
   "outputs": [
    {
     "name": "stdout",
     "output_type": "stream",
     "text": [
      "271204.44978072523 27669 4496861 306555.0273738244 46745\n"
     ]
    }
   ],
   "source": [
    "#Calculate the described data for one std above the mean (using mean and stf of the original sample)\n",
    "std_above = df[df['value_len'] > ORIG_STD + ORIG_MEAN]\n",
    "(A_MEAN, A_MIN, A_MAX, A_STD, A_COUNT) = describedData(std_above)\n",
    "print(A_MEAN, A_MIN, A_MAX, A_STD, A_COUNT)"
   ]
  },
  {
   "cell_type": "markdown",
   "metadata": {},
   "source": [
    "The following cell will create a dataframe of the described data calculated above and save it into a csv to fulture use, if calculations are not possible. "
   ]
  },
  {
   "cell_type": "code",
   "execution_count": 28,
   "metadata": {},
   "outputs": [
    {
     "data": {
      "text/html": [
       "<div>\n",
       "<style scoped>\n",
       "    .dataframe tbody tr th:only-of-type {\n",
       "        vertical-align: middle;\n",
       "    }\n",
       "\n",
       "    .dataframe tbody tr th {\n",
       "        vertical-align: top;\n",
       "    }\n",
       "\n",
       "    .dataframe thead th {\n",
       "        text-align: right;\n",
       "    }\n",
       "</style>\n",
       "<table border=\"1\" class=\"dataframe\">\n",
       "  <thead>\n",
       "    <tr style=\"text-align: right;\">\n",
       "      <th></th>\n",
       "      <th>MEAN</th>\n",
       "      <th>MIN</th>\n",
       "      <th>MAX</th>\n",
       "      <th>STD</th>\n",
       "      <th>COUNT</th>\n",
       "    </tr>\n",
       "  </thead>\n",
       "  <tbody>\n",
       "    <tr>\n",
       "      <th>ORIGINAL</th>\n",
       "      <td>1356.977663</td>\n",
       "      <td>0</td>\n",
       "      <td>4496861</td>\n",
       "      <td>26310.621405</td>\n",
       "      <td>11292867</td>\n",
       "    </tr>\n",
       "    <tr>\n",
       "      <th>ABOVE_MEAN</th>\n",
       "      <td>27829.332848</td>\n",
       "      <td>1357</td>\n",
       "      <td>4496861</td>\n",
       "      <td>122092.413719</td>\n",
       "      <td>499805</td>\n",
       "    </tr>\n",
       "    <tr>\n",
       "      <th>ABOVE_STD</th>\n",
       "      <td>271204.449781</td>\n",
       "      <td>27669</td>\n",
       "      <td>4496861</td>\n",
       "      <td>306555.027374</td>\n",
       "      <td>46745</td>\n",
       "    </tr>\n",
       "  </tbody>\n",
       "</table>\n",
       "</div>"
      ],
      "text/plain": [
       "                     MEAN    MIN      MAX            STD     COUNT\n",
       "ORIGINAL      1356.977663      0  4496861   26310.621405  11292867\n",
       "ABOVE_MEAN   27829.332848   1357  4496861  122092.413719    499805\n",
       "ABOVE_STD   271204.449781  27669  4496861  306555.027374     46745"
      ]
     },
     "execution_count": 28,
     "metadata": {},
     "output_type": "execute_result"
    }
   ],
   "source": [
    "# Comparasion of this sample and original 10% sample:\n",
    "import pandas as pd\n",
    "import numpy as np\n",
    "%matplotlib inline\n",
    "\n",
    "compare = pd.DataFrame([(ORIG_MEAN, ORIG_MIN, ORIG_MAX, ORIG_STD, ORIG_COUNT),\n",
    "                        (MEAN, MIN, MAX, STD, COUNT), \n",
    "                        (A_MEAN, A_MIN, A_MAX, A_STD, A_COUNT)], \n",
    "                       columns=['MEAN', 'MIN', 'MAX', 'STD', 'COUNT'],\n",
    "                      index= ['ORIGINAL','ABOVE_MEAN', 'ABOVE_STD'])\n",
    "compare.to_csv('describedData.csv')\n",
    "compare"
   ]
  },
  {
   "cell_type": "markdown",
   "metadata": {},
   "source": [
    "# Number of rows\n",
    "The number of rows after filtering for values above the mean are about 4.42% of the original sample.  \n",
    "And the count for values one std above the mean is just 9.35% of this sample or 0.41% of original sample.  \n",
    "By this we can see that the really big values represent just a very small portion of the whole. "
   ]
  },
  {
   "cell_type": "code",
   "execution_count": 14,
   "metadata": {},
   "outputs": [
    {
     "name": "stdout",
     "output_type": "stream",
     "text": [
      "Above the mean / original 4.425846864219688\n",
      "1 STD Above the mean / original 0.41393385754033946\n",
      "1 STD Above the mean / Above mean 9.35264753253769\n"
     ]
    }
   ],
   "source": [
    "print('Above the mean / original', COUNT / ORIG_COUNT * 100)\n",
    "print('1 STD Above the mean / original', A_COUNT / ORIG_COUNT * 100)\n",
    "print('1 STD Above the mean / Above mean', A_COUNT / COUNT * 100)"
   ]
  },
  {
   "cell_type": "code",
   "execution_count": 15,
   "metadata": {},
   "outputs": [
    {
     "data": {
      "text/plain": [
       "<matplotlib.axes._subplots.AxesSubplot at 0x124de1dd8>"
      ]
     },
     "execution_count": 15,
     "metadata": {},
     "output_type": "execute_result"
    },
    {
     "data": {
      "image/png": "[encoded data removed]",
      "text/plain": [
       "<Figure size 432x288 with 1 Axes>"
      ]
     },
     "metadata": {},
     "output_type": "display_data"
    }
   ],
   "source": [
    "compare['COUNT'].plot(kind='pie')"
   ]
  },
  {
   "cell_type": "markdown",
   "metadata": {},
   "source": [
    "# Max and Min values\n",
    "\n",
    "it is expected that the maximum will be the same for all mentioned samples since the filtering is being made by the minimum, and is also expected that the min is the value used to filter."
   ]
  },
  {
   "cell_type": "code",
   "execution_count": 16,
   "metadata": {},
   "outputs": [
    {
     "data": {
      "text/plain": [
       "<matplotlib.axes._subplots.AxesSubplot at 0x1278807f0>"
      ]
     },
     "execution_count": 16,
     "metadata": {},
     "output_type": "execute_result"
    },
    {
     "data": {
      "image/png": "[encoded data removed]",
      "text/plain": [
       "<Figure size 432x288 with 1 Axes>"
      ]
     },
     "metadata": {
      "needs_background": "light"
     },
     "output_type": "display_data"
    }
   ],
   "source": [
    "compare[['MIN','MAX']].plot()"
   ]
  },
  {
   "cell_type": "markdown",
   "metadata": {},
   "source": [
    "# Mean and Std\n",
    "> A low standard deviation indicates that the data points tend to be close to the mean (also called the expected value) of the set, while a high standard deviation indicates that the data points are spread out over a wider range of values. (https://en.wikipedia.org/wiki/Standard_deviation)\n",
    "\n",
    "It is noticeable that both mean and std are increassing as the data is filtered by bigger values. \n",
    "\n",
    "The increase of the mean is to be expected, since we are eliminating the smaller values and leaving only the bigger ones. \n",
    "\n",
    "But the STD is not necessary like the mean where it will increase after the filter, but since it is the case here we can safaly assume that as the values get bigger the more spread out they are, the mean of the sample is less accurate to represent the whole dataset since they have a huge difference of value from one another. "
   ]
  },
  {
   "cell_type": "code",
   "execution_count": 17,
   "metadata": {},
   "outputs": [
    {
     "data": {
      "text/plain": [
       "<matplotlib.axes._subplots.AxesSubplot at 0x1245e8a90>"
      ]
     },
     "execution_count": 17,
     "metadata": {},
     "output_type": "execute_result"
    },
    {
     "data": {
      "image/png": "[encoded data removed]",
      "text/plain": [
       "<Figure size 432x288 with 1 Axes>"
      ]
     },
     "metadata": {
      "needs_background": "light"
     },
     "output_type": "display_data"
    }
   ],
   "source": [
    "compare[['MEAN','STD']].plot()"
   ]
  },
  {
   "cell_type": "markdown",
   "metadata": {},
   "source": [
    "# IS JSON\n",
    "\n",
    "This whole sample has: \n",
    "- False: 307577 rows\n",
    "    - 61,54% are not valid JSON\n",
    "    \n",
    "- True: 192228 rows\n",
    "    - 38,46% are valid JSON"
   ]
  },
  {
   "cell_type": "code",
   "execution_count": 18,
   "metadata": {},
   "outputs": [
    {
     "data": {
      "text/plain": [
       "<matplotlib.axes._subplots.AxesSubplot at 0x12891c940>"
      ]
     },
     "execution_count": 18,
     "metadata": {},
     "output_type": "execute_result"
    },
    {
     "data": {
      "image/png": "[encoded data removed]",
      "text/plain": [
       "<Figure size 432x288 with 1 Axes>"
      ]
     },
     "metadata": {},
     "output_type": "display_data"
    }
   ],
   "source": [
    "is_json_counts = df['is_json'].value_counts().compute()\n",
    "is_json_counts.plot(kind='pie')"
   ]
  },
  {
   "cell_type": "markdown",
   "metadata": {},
   "source": [
    "As the value_len increases the frequence of valid JSON on the columns 'value' also increases,\n",
    "for the rows that have the value_len one std above the mean, we have the following:\n",
    "- isJson True: 46691 rows\n",
    "    - 99,88% are valid JSON\n",
    "    \n",
    "- isJson False: 54 rows\n",
    "    - 0,11% are not valid JSON\n",
    "\n",
    "\n",
    "The valid json also represent 9.35% of the data because the number of non Json are too small to make a percentual difference. "
   ]
  },
  {
   "cell_type": "code",
   "execution_count": 19,
   "metadata": {},
   "outputs": [
    {
     "name": "stdout",
     "output_type": "stream",
     "text": [
      "one std above the mean = len: 46745 (9.35%)\n"
     ]
    }
   ],
   "source": [
    "print(\"one std above the mean = len: {0} ({1:0.2f}%)\".format(A_COUNT, A_COUNT / COUNT * 100))"
   ]
  },
  {
   "cell_type": "code",
   "execution_count": 20,
   "metadata": {},
   "outputs": [
    {
     "data": {
      "text/html": [
       "<div>\n",
       "<style scoped>\n",
       "    .dataframe tbody tr th:only-of-type {\n",
       "        vertical-align: middle;\n",
       "    }\n",
       "\n",
       "    .dataframe tbody tr th {\n",
       "        vertical-align: top;\n",
       "    }\n",
       "\n",
       "    .dataframe thead tr th {\n",
       "        text-align: left;\n",
       "    }\n",
       "\n",
       "    .dataframe thead tr:last-of-type th {\n",
       "        text-align: right;\n",
       "    }\n",
       "</style>\n",
       "<table border=\"1\" class=\"dataframe\">\n",
       "  <thead>\n",
       "    <tr>\n",
       "      <th></th>\n",
       "      <th colspan=\"5\" halign=\"left\">value_len</th>\n",
       "    </tr>\n",
       "    <tr>\n",
       "      <th></th>\n",
       "      <th>mean</th>\n",
       "      <th>std</th>\n",
       "      <th>min</th>\n",
       "      <th>max</th>\n",
       "      <th>count</th>\n",
       "    </tr>\n",
       "    <tr>\n",
       "      <th>is_json</th>\n",
       "      <th></th>\n",
       "      <th></th>\n",
       "      <th></th>\n",
       "      <th></th>\n",
       "      <th></th>\n",
       "    </tr>\n",
       "  </thead>\n",
       "  <tbody>\n",
       "    <tr>\n",
       "      <th>False</th>\n",
       "      <td>82460.055556</td>\n",
       "      <td>13627.118063</td>\n",
       "      <td>28135</td>\n",
       "      <td>104653</td>\n",
       "      <td>54</td>\n",
       "    </tr>\n",
       "    <tr>\n",
       "      <th>True</th>\n",
       "      <td>271422.740185</td>\n",
       "      <td>412552.298613</td>\n",
       "      <td>27669</td>\n",
       "      <td>4496861</td>\n",
       "      <td>46691</td>\n",
       "    </tr>\n",
       "  </tbody>\n",
       "</table>\n",
       "</div>"
      ],
      "text/plain": [
       "             value_len                                      \n",
       "                  mean            std    min      max  count\n",
       "is_json                                                     \n",
       "False     82460.055556   13627.118063  28135   104653     54\n",
       "True     271422.740185  412552.298613  27669  4496861  46691"
      ]
     },
     "execution_count": 20,
     "metadata": {},
     "output_type": "execute_result"
    }
   ],
   "source": [
    "group = std_above.groupby('is_json')\n",
    "group_result = group.agg({'value_len': ['mean', 'std', 'min', 'max', 'count']}).compute()\n",
    "group_result"
   ]
  },
  {
   "cell_type": "code",
   "execution_count": 21,
   "metadata": {},
   "outputs": [
    {
     "name": "stdout",
     "output_type": "stream",
     "text": [
      "NOT json count: 54 (0.01%)\n",
      "IS json count: 46691 (9.34%)\n"
     ]
    }
   ],
   "source": [
    "a = group_result['value_len']['count']\n",
    "print(\"NOT json count: {0} ({1:0.2f}%)\".format(a[0], a[0] / COUNT * 100))\n",
    "print(\"IS json count: {0} ({1:0.2f}%)\".format(a[1], a[1] / COUNT * 100))"
   ]
  },
  {
   "cell_type": "code",
   "execution_count": 22,
   "metadata": {},
   "outputs": [
    {
     "data": {
      "text/plain": [
       "<matplotlib.axes._subplots.AxesSubplot at 0x125efa160>"
      ]
     },
     "execution_count": 22,
     "metadata": {},
     "output_type": "execute_result"
    },
    {
     "data": {
      "image/png": "[encoded data removed]",
      "text/plain": [
       "<Figure size 432x288 with 1 Axes>"
      ]
     },
     "metadata": {},
     "output_type": "display_data"
    }
   ],
   "source": [
    "group_result['value_len']['count'].plot(kind='pie')"
   ]
  },
  {
   "cell_type": "markdown",
   "metadata": {},
   "source": [
    "### All greater values are JSON\n",
    "\n",
    "There is absolute no value greater than 104653 (max value for non-json) that represents a valid JSON. \n",
    "\n",
    "This implies that all the greater values are JSON but they represent very low percentage of the whole data (6.76%).  "
   ]
  },
  {
   "cell_type": "code",
   "execution_count": 26,
   "metadata": {},
   "outputs": [
    {
     "name": "stdout",
     "output_type": "stream",
     "text": [
      "104653\n",
      "len: 33788 (6.76%)\n"
     ]
    }
   ],
   "source": [
    "max_non_json_value = group_result['value_len']['max'][0]\n",
    "allJson = df[df['value_len'] > max_non_json_value ]\n",
    "length = len(allJson)\n",
    "print(\"len: {0} ({1:0.2f}%)\".format(length, length / COUNT * 100))"
   ]
  },
  {
   "cell_type": "code",
   "execution_count": null,
   "metadata": {},
   "outputs": [],
   "source": []
  }
 ],
 "metadata": {
  "kernelspec": {
   "display_name": "Python 3",
   "language": "python",
   "name": "python3"
  },
  "language_info": {
   "codemirror_mode": {
    "name": "ipython",
    "version": 3
   },
   "file_extension": ".py",
   "mimetype": "text/x-python",
   "name": "python",
   "nbconvert_exporter": "python",
   "pygments_lexer": "ipython3",
   "version": "3.6.8"
  }
 },
 "nbformat": 4,
 "nbformat_minor": 2
}
