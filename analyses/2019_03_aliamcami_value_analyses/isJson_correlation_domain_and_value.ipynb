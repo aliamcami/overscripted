{
 "cells": [
  {
   "cell_type": "markdown",
   "metadata": {},
   "source": [
    "# Start Dask"
   ]
  },
  {
   "cell_type": "code",
   "execution_count": 1,
   "metadata": {},
   "outputs": [
    {
     "name": "stderr",
     "output_type": "stream",
     "text": [
      "/anaconda3/envs/overscripted/lib/python3.6/site-packages/dask/config.py:168: YAMLLoadWarning: calling yaml.load() without Loader=... is deprecated, as the default Loader is unsafe. Please read https://msg.pyyaml.org/load for full details.\n",
      "  data = yaml.load(f.read()) or {}\n",
      "/anaconda3/envs/overscripted/lib/python3.6/site-packages/distributed/config.py:20: YAMLLoadWarning: calling yaml.load() without Loader=... is deprecated, as the default Loader is unsafe. Please read https://msg.pyyaml.org/load for full details.\n",
      "  defaults = yaml.load(f)\n"
     ]
    },
    {
     "data": {
      "text/html": [
       "<table style=\"border: 2px solid white;\">\n",
       "<tr>\n",
       "<td style=\"vertical-align: top; border: 0px solid white\">\n",
       "<h3>Client</h3>\n",
       "<ul>\n",
       "  <li><b>Scheduler: </b>tcp://127.0.0.1:56932\n",
       "  <li><b>Dashboard: </b><a href='http://127.0.0.1:8787/status' target='_blank'>http://127.0.0.1:8787/status</a>\n",
       "</ul>\n",
       "</td>\n",
       "<td style=\"vertical-align: top; border: 0px solid white\">\n",
       "<h3>Cluster</h3>\n",
       "<ul>\n",
       "  <li><b>Workers: </b>4</li>\n",
       "  <li><b>Cores: </b>4</li>\n",
       "  <li><b>Memory: </b>8.59 GB</li>\n",
       "</ul>\n",
       "</td>\n",
       "</tr>\n",
       "</table>"
      ],
      "text/plain": [
       "<Client: scheduler='tcp://127.0.0.1:56932' processes=4 cores=4>"
      ]
     },
     "execution_count": 1,
     "metadata": {},
     "output_type": "execute_result"
    }
   ],
   "source": [
    "import dask.dataframe as dd\n",
    "from dask.distributed import Client\n",
    "\n",
    "#Initializing client\n",
    "client = Client()\n",
    "client"
   ]
  },
  {
   "cell_type": "markdown",
   "metadata": {},
   "source": [
    "# Objective\n",
    "\n",
    "The objective of this notebook is to answer two main questions: \n",
    " - \"The JSON values are always from the same location or related domains?\" \n",
    " - \"Are there a set of location domains that always produces a JSON?\"\n",
    "\n",
    "To answer this we will use the sample data set produced by the notebook \"isJson_dataPrep.ipynb\" called 'all_json_above_mean.parquet' for first question and 'is_json_above_mean_md5.parquet' for seccond, this contains two extra calculated columns that will be important: 'is_json' and 'location_domain'.\n",
    "\n",
    "\n",
    "<sub>OBS.: For \"value\" comparison I will use instead value_md5, because its reliable and faster. Value_md5 is the calculated md5 for the value columns  \n",
    "OBS2.: To see validation that all biggest values are json please reffer to 'isJson_Sample_Comparasion.ipynb'</sub>\n",
    "\n",
    "### Findings: \n",
    "\n",
    "On this notebook I was able to validate couple facts about the two proposed questions, which are: \n",
    "- One domain produces multiple JSONs\n",
    "- One JSON is usually (99.9%) produced by a single domain. \n",
    "\n",
    "\n",
    "- One domain can produce values there are both Json or not, but most produce only one type\n",
    "- Most of the domains that produce a single type produces JSON type. "
   ]
  },
  {
   "cell_type": "markdown",
   "metadata": {},
   "source": [
    "---\n",
    "\n",
    "# Are there a set of location domains that always produces a JSON?\n",
    "The dataset used to this analise contains non-json values as well for the sake of proving that one domain may or may not produce only json values."
   ]
  },
  {
   "cell_type": "code",
   "execution_count": 37,
   "metadata": {},
   "outputs": [
    {
     "data": {
      "text/plain": [
       "Index(['value_md5', 'is_json', 'location_domain'], dtype='object')"
      ]
     },
     "execution_count": 37,
     "metadata": {},
     "output_type": "execute_result"
    }
   ],
   "source": [
    "df = dd.read_parquet('is_json_above_mean_md5.parquet', engine='pyarrow', columns=['value_md5', 'is_json', 'location_domain'])\n",
    "df.columns"
   ]
  },
  {
   "cell_type": "code",
   "execution_count": 38,
   "metadata": {},
   "outputs": [
    {
     "data": {
      "text/html": [
       "<div>\n",
       "<style scoped>\n",
       "    .dataframe tbody tr th:only-of-type {\n",
       "        vertical-align: middle;\n",
       "    }\n",
       "\n",
       "    .dataframe tbody tr th {\n",
       "        vertical-align: top;\n",
       "    }\n",
       "\n",
       "    .dataframe thead th {\n",
       "        text-align: right;\n",
       "    }\n",
       "</style>\n",
       "<table border=\"1\" class=\"dataframe\">\n",
       "  <thead>\n",
       "    <tr style=\"text-align: right;\">\n",
       "      <th></th>\n",
       "      <th>value_md5</th>\n",
       "      <th>is_json</th>\n",
       "      <th>location_domain</th>\n",
       "    </tr>\n",
       "  </thead>\n",
       "  <tbody>\n",
       "    <tr>\n",
       "      <th>0</th>\n",
       "      <td>cff77029e3ae45dd439a62987b1d8340</td>\n",
       "      <td>True</td>\n",
       "      <td>canada.ca</td>\n",
       "    </tr>\n",
       "    <tr>\n",
       "      <th>1</th>\n",
       "      <td>9ac0a0a0afb677c8fd985a7c2f4ddbc5</td>\n",
       "      <td>True</td>\n",
       "      <td>tmall.com</td>\n",
       "    </tr>\n",
       "    <tr>\n",
       "      <th>2</th>\n",
       "      <td>9ac0a0a0afb677c8fd985a7c2f4ddbc5</td>\n",
       "      <td>True</td>\n",
       "      <td>tmall.com</td>\n",
       "    </tr>\n",
       "    <tr>\n",
       "      <th>3</th>\n",
       "      <td>db64465b639e01993d9212390f057628</td>\n",
       "      <td>False</td>\n",
       "      <td>coches.net</td>\n",
       "    </tr>\n",
       "    <tr>\n",
       "      <th>4</th>\n",
       "      <td>db64465b639e01993d9212390f057628</td>\n",
       "      <td>False</td>\n",
       "      <td>coches.net</td>\n",
       "    </tr>\n",
       "  </tbody>\n",
       "</table>\n",
       "</div>"
      ],
      "text/plain": [
       "                          value_md5  is_json location_domain\n",
       "0  cff77029e3ae45dd439a62987b1d8340     True       canada.ca\n",
       "1  9ac0a0a0afb677c8fd985a7c2f4ddbc5     True       tmall.com\n",
       "2  9ac0a0a0afb677c8fd985a7c2f4ddbc5     True       tmall.com\n",
       "3  db64465b639e01993d9212390f057628    False      coches.net\n",
       "4  db64465b639e01993d9212390f057628    False      coches.net"
      ]
     },
     "execution_count": 38,
     "metadata": {},
     "output_type": "execute_result"
    }
   ],
   "source": [
    "df.head()"
   ]
  },
  {
   "cell_type": "code",
   "execution_count": 60,
   "metadata": {},
   "outputs": [],
   "source": [
    "location_domain_group = df.compute().groupby('location_domain')"
   ]
  },
  {
   "cell_type": "code",
   "execution_count": 160,
   "metadata": {},
   "outputs": [],
   "source": [
    "agg = location_domain_group.agg({'value_md5': ['nunique', 'count'], 'is_json': ['sum', 'nunique']})"
   ]
  },
  {
   "cell_type": "code",
   "execution_count": 161,
   "metadata": {},
   "outputs": [
    {
     "data": {
      "text/html": [
       "<div>\n",
       "<style scoped>\n",
       "    .dataframe tbody tr th:only-of-type {\n",
       "        vertical-align: middle;\n",
       "    }\n",
       "\n",
       "    .dataframe tbody tr th {\n",
       "        vertical-align: top;\n",
       "    }\n",
       "\n",
       "    .dataframe thead tr th {\n",
       "        text-align: left;\n",
       "    }\n",
       "\n",
       "    .dataframe thead tr:last-of-type th {\n",
       "        text-align: right;\n",
       "    }\n",
       "</style>\n",
       "<table border=\"1\" class=\"dataframe\">\n",
       "  <thead>\n",
       "    <tr>\n",
       "      <th></th>\n",
       "      <th colspan=\"2\" halign=\"left\">value_md5</th>\n",
       "      <th colspan=\"2\" halign=\"left\">is_json</th>\n",
       "    </tr>\n",
       "    <tr>\n",
       "      <th></th>\n",
       "      <th>nunique</th>\n",
       "      <th>count</th>\n",
       "      <th>sum</th>\n",
       "      <th>nunique</th>\n",
       "    </tr>\n",
       "    <tr>\n",
       "      <th>location_domain</th>\n",
       "      <th></th>\n",
       "      <th></th>\n",
       "      <th></th>\n",
       "      <th></th>\n",
       "    </tr>\n",
       "  </thead>\n",
       "  <tbody>\n",
       "    <tr>\n",
       "      <th>0123movies.com</th>\n",
       "      <td>2</td>\n",
       "      <td>2</td>\n",
       "      <td>2.0</td>\n",
       "      <td>1</td>\n",
       "    </tr>\n",
       "    <tr>\n",
       "      <th>10010.com</th>\n",
       "      <td>2</td>\n",
       "      <td>8</td>\n",
       "      <td>8.0</td>\n",
       "      <td>1</td>\n",
       "    </tr>\n",
       "    <tr>\n",
       "      <th>1001freefonts.com</th>\n",
       "      <td>20</td>\n",
       "      <td>155</td>\n",
       "      <td>155.0</td>\n",
       "      <td>1</td>\n",
       "    </tr>\n",
       "    <tr>\n",
       "      <th>10fastfingers.com</th>\n",
       "      <td>4</td>\n",
       "      <td>28</td>\n",
       "      <td>28.0</td>\n",
       "      <td>1</td>\n",
       "    </tr>\n",
       "    <tr>\n",
       "      <th>10jqka.com.cn</th>\n",
       "      <td>7</td>\n",
       "      <td>30</td>\n",
       "      <td>30.0</td>\n",
       "      <td>1</td>\n",
       "    </tr>\n",
       "  </tbody>\n",
       "</table>\n",
       "</div>"
      ],
      "text/plain": [
       "                  value_md5       is_json        \n",
       "                    nunique count     sum nunique\n",
       "location_domain                                  \n",
       "0123movies.com            2     2     2.0       1\n",
       "10010.com                 2     8     8.0       1\n",
       "1001freefonts.com        20   155   155.0       1\n",
       "10fastfingers.com         4    28    28.0       1\n",
       "10jqka.com.cn             7    30    30.0       1"
      ]
     },
     "execution_count": 161,
     "metadata": {},
     "output_type": "execute_result"
    }
   ],
   "source": [
    "agg.head()"
   ]
  },
  {
   "cell_type": "code",
   "execution_count": 178,
   "metadata": {},
   "outputs": [
    {
     "data": {
      "text/plain": [
       "1563"
      ]
     },
     "execution_count": 178,
     "metadata": {},
     "output_type": "execute_result"
    }
   ],
   "source": [
    "#Count the number of domains that only produce one type of value (json or non-json)\n",
    "f1 = agg['is_json']['nunique'] == 1\n",
    "agg_1 = agg[f1]\n",
    "oneType = len(agg_1['is_json'])\n",
    "oneType"
   ]
  },
  {
   "cell_type": "code",
   "execution_count": 180,
   "metadata": {},
   "outputs": [
    {
     "data": {
      "text/plain": [
       "1226"
      ]
     },
     "execution_count": 180,
     "metadata": {},
     "output_type": "execute_result"
    }
   ],
   "source": [
    "#Out of the ones there have only one type of output, these are the ones that have as JSON\n",
    "f2 = agg['is_json']['sum'] > 0\n",
    "agg_1a = agg[f1 & f2]\n",
    "oneType_json = len(agg_1a['is_json'])\n",
    "oneType_json"
   ]
  },
  {
   "cell_type": "code",
   "execution_count": 185,
   "metadata": {},
   "outputs": [
    {
     "data": {
      "text/plain": [
       "<matplotlib.axes._subplots.AxesSubplot at 0x130705a90>"
      ]
     },
     "execution_count": 185,
     "metadata": {},
     "output_type": "execute_result"
    },
    {
     "data": {
      "image/png": "[encoded data removed]",
      "text/plain": [
       "<Figure size 432x432 with 1 Axes>"
      ]
     },
     "metadata": {},
     "output_type": "display_data"
    }
   ],
   "source": [
    "series = pd.Series([(oneType - oneType_json), (oneType_json)], index=['non-json', 'json'], name='One type')\n",
    "series.plot.pie(figsize=(6, 6), autopct='%1.0f%%')"
   ]
  },
  {
   "cell_type": "code",
   "execution_count": 179,
   "metadata": {},
   "outputs": [
    {
     "data": {
      "text/plain": [
       "294"
      ]
     },
     "execution_count": 179,
     "metadata": {},
     "output_type": "execute_result"
    }
   ],
   "source": [
    "#Count the number of domains that only produce one BOTH json and non-json values\n",
    "agg_2 = agg[agg['is_json']['nunique'] == 2]\n",
    "twoTypes = len(agg_2['is_json'])\n",
    "twoTypes"
   ]
  },
  {
   "cell_type": "code",
   "execution_count": 187,
   "metadata": {},
   "outputs": [
    {
     "data": {
      "text/plain": [
       "<matplotlib.axes._subplots.AxesSubplot at 0x12ddd5710>"
      ]
     },
     "execution_count": 187,
     "metadata": {},
     "output_type": "execute_result"
    },
    {
     "data": {
      "image/png": "[encoded data removed]",
      "text/plain": [
       "<Figure size 432x432 with 1 Axes>"
      ]
     },
     "metadata": {},
     "output_type": "display_data"
    }
   ],
   "source": [
    "series = pd.Series([(oneType), (twoTypes)], index=['Json', 'both'], name='Domain output')\n",
    "series.plot.pie(figsize=(6, 6), autopct='%1.0f%%')"
   ]
  },
  {
   "cell_type": "markdown",
   "metadata": {},
   "source": [
    "## Conclusion\n",
    "Most of the domains has only one type of value output, but not all of them. 16% have outputs that can be json and non-json\n",
    "\n",
    "Out of the ones that has one value type, 78% is json. \n",
    "\n",
    ">Are there a set of location domains that always produces a JSON?\n",
    "\n",
    "Yes, there is a set that always produces the value as a valid JSON, but not all of them. There are also the ones there never produces JSON and some that produces both. \n",
    "\n",
    "---"
   ]
  },
  {
   "cell_type": "code",
   "execution_count": 189,
   "metadata": {},
   "outputs": [
    {
     "data": {
      "text/plain": [
       "location_domain\n",
       "twitter.com      5594\n",
       "petsmart.com     2313\n",
       "cdiscount.com    1835\n",
       "debenhams.com    1229\n",
       "mediamarkt.de    1094\n",
       "Name: value_md5, dtype: int64"
      ]
     },
     "execution_count": 189,
     "metadata": {},
     "output_type": "execute_result"
    }
   ],
   "source": [
    "#Using the above methoed I could tell that the domains did not have only one \n",
    "#output, but I could not find a way to tell the output type. \n",
    "#Thats why I decided to calculate by hand as you propably notice, sorry. \n",
    "\n",
    "location_domain_group_unique_md5 = location_domain_group['value_md5'].nunique()\n",
    "location_domain_group_unique_md5.sort_values(ascending=False).head()"
   ]
  },
  {
   "cell_type": "markdown",
   "metadata": {},
   "source": [
    "---\n",
    "\n",
    "## The JSON values are always from the same location or related domains?\n",
    "For \"value\" comparison I will use value_md5 instead, because its reliable and faster\n",
    "\n",
    "* value_md5 is the calculated md5 for the value columns"
   ]
  },
  {
   "cell_type": "code",
   "execution_count": 191,
   "metadata": {},
   "outputs": [
    {
     "data": {
      "text/plain": [
       "Index(['value_md5', 'location_domain', 'value_len'], dtype='object')"
      ]
     },
     "execution_count": 191,
     "metadata": {},
     "output_type": "execute_result"
    }
   ],
   "source": [
    "df = dd.read_parquet('all_json_above_mean.parquet', columns=['value_md5','location_domain', 'value_len'])\n",
    "df.columns"
   ]
  },
  {
   "cell_type": "code",
   "execution_count": 192,
   "metadata": {},
   "outputs": [
    {
     "data": {
      "text/html": [
       "<div>\n",
       "<style scoped>\n",
       "    .dataframe tbody tr th:only-of-type {\n",
       "        vertical-align: middle;\n",
       "    }\n",
       "\n",
       "    .dataframe tbody tr th {\n",
       "        vertical-align: top;\n",
       "    }\n",
       "\n",
       "    .dataframe thead th {\n",
       "        text-align: right;\n",
       "    }\n",
       "</style>\n",
       "<table border=\"1\" class=\"dataframe\">\n",
       "  <thead>\n",
       "    <tr style=\"text-align: right;\">\n",
       "      <th></th>\n",
       "      <th>value_md5</th>\n",
       "      <th>location_domain</th>\n",
       "      <th>value_len</th>\n",
       "    </tr>\n",
       "  </thead>\n",
       "  <tbody>\n",
       "    <tr>\n",
       "      <th>0</th>\n",
       "      <td>cff77029e3ae45dd439a62987b1d8340</td>\n",
       "      <td>canada.ca</td>\n",
       "      <td>3713</td>\n",
       "    </tr>\n",
       "    <tr>\n",
       "      <th>1</th>\n",
       "      <td>9ac0a0a0afb677c8fd985a7c2f4ddbc5</td>\n",
       "      <td>tmall.com</td>\n",
       "      <td>103878</td>\n",
       "    </tr>\n",
       "    <tr>\n",
       "      <th>2</th>\n",
       "      <td>9ac0a0a0afb677c8fd985a7c2f4ddbc5</td>\n",
       "      <td>tmall.com</td>\n",
       "      <td>103878</td>\n",
       "    </tr>\n",
       "    <tr>\n",
       "      <th>3</th>\n",
       "      <td>983f2d6827a86b128a02cf7442c94af1</td>\n",
       "      <td>coches.net</td>\n",
       "      <td>1686</td>\n",
       "    </tr>\n",
       "    <tr>\n",
       "      <th>4</th>\n",
       "      <td>b2ad4d7452aeed3df181b1501cc20231</td>\n",
       "      <td>coches.net</td>\n",
       "      <td>1686</td>\n",
       "    </tr>\n",
       "  </tbody>\n",
       "</table>\n",
       "</div>"
      ],
      "text/plain": [
       "                          value_md5 location_domain  value_len\n",
       "0  cff77029e3ae45dd439a62987b1d8340       canada.ca       3713\n",
       "1  9ac0a0a0afb677c8fd985a7c2f4ddbc5       tmall.com     103878\n",
       "2  9ac0a0a0afb677c8fd985a7c2f4ddbc5       tmall.com     103878\n",
       "3  983f2d6827a86b128a02cf7442c94af1      coches.net       1686\n",
       "4  b2ad4d7452aeed3df181b1501cc20231      coches.net       1686"
      ]
     },
     "execution_count": 192,
     "metadata": {},
     "output_type": "execute_result"
    }
   ],
   "source": [
    "df.head()"
   ]
  },
  {
   "cell_type": "code",
   "execution_count": 196,
   "metadata": {},
   "outputs": [
    {
     "name": "stderr",
     "output_type": "stream",
     "text": [
      "/anaconda3/envs/overscripted/lib/python3.6/site-packages/distributed/worker.py:2791: UserWarning: Large object of size 1.89 MB detected in task graph: \n",
      "  (<dask.bytes.local.LocalFileSystem object at 0x122 ... : 'value_md5'})\n",
      "Consider scattering large objects ahead of time\n",
      "with client.scatter to reduce scheduler burden and \n",
      "keep data on workers\n",
      "\n",
      "    future = client.submit(func, big_data)    # bad\n",
      "\n",
      "    big_future = client.scatter(big_data)     # good\n",
      "    future = client.submit(func, big_future)  # good\n",
      "  % (format_bytes(len(b)), s))\n"
     ]
    }
   ],
   "source": [
    "md5Group = df.compute().groupby('value_md5')"
   ]
  },
  {
   "cell_type": "code",
   "execution_count": 201,
   "metadata": {},
   "outputs": [],
   "source": [
    "uniquePerGroup = md5Group['location_domain'].nunique().sort_values(ascending=False)"
   ]
  },
  {
   "cell_type": "code",
   "execution_count": 202,
   "metadata": {},
   "outputs": [
    {
     "data": {
      "text/plain": [
       "value_md5\n",
       "9ac0a0a0afb677c8fd985a7c2f4ddbc5    9\n",
       "5ec2e3a352164b86a9826d5f83bbebac    8\n",
       "0e39ea3d9346b2c98c605a5697b314c6    6\n",
       "be58f7715071d1cc741f04a9d6e16892    6\n",
       "618004cfffbb7b5ef1e25489fc2d7c94    6\n",
       "Name: location_domain, dtype: int64"
      ]
     },
     "execution_count": 202,
     "metadata": {},
     "output_type": "execute_result"
    }
   ],
   "source": [
    "uniquePerGroup.head()"
   ]
  },
  {
   "cell_type": "markdown",
   "metadata": {},
   "source": [
    "One Value is NOT produced always by the same domain, but each value does have very few domains. "
   ]
  },
  {
   "cell_type": "code",
   "execution_count": 204,
   "metadata": {},
   "outputs": [],
   "source": [
    "aggmd = md5Group.agg({'location_domain': ['nunique']})"
   ]
  },
  {
   "cell_type": "code",
   "execution_count": 207,
   "metadata": {},
   "outputs": [
    {
     "data": {
      "text/html": [
       "<div>\n",
       "<style scoped>\n",
       "    .dataframe tbody tr th:only-of-type {\n",
       "        vertical-align: middle;\n",
       "    }\n",
       "\n",
       "    .dataframe tbody tr th {\n",
       "        vertical-align: top;\n",
       "    }\n",
       "\n",
       "    .dataframe thead tr th {\n",
       "        text-align: left;\n",
       "    }\n",
       "\n",
       "    .dataframe thead tr:last-of-type th {\n",
       "        text-align: right;\n",
       "    }\n",
       "</style>\n",
       "<table border=\"1\" class=\"dataframe\">\n",
       "  <thead>\n",
       "    <tr>\n",
       "      <th></th>\n",
       "      <th>location_domain</th>\n",
       "    </tr>\n",
       "    <tr>\n",
       "      <th></th>\n",
       "      <th>nunique</th>\n",
       "    </tr>\n",
       "    <tr>\n",
       "      <th>value_md5</th>\n",
       "      <th></th>\n",
       "    </tr>\n",
       "  </thead>\n",
       "  <tbody>\n",
       "    <tr>\n",
       "      <th>000599fa6f59053c67e6ccbef137a0d2</th>\n",
       "      <td>1</td>\n",
       "    </tr>\n",
       "    <tr>\n",
       "      <th>0005e12de9897336bf5c7e352a807568</th>\n",
       "      <td>1</td>\n",
       "    </tr>\n",
       "    <tr>\n",
       "      <th>00076462ead16ac77a1d56745584fd5b</th>\n",
       "      <td>1</td>\n",
       "    </tr>\n",
       "    <tr>\n",
       "      <th>0007a2345e42bca1d5cac86e356bb87b</th>\n",
       "      <td>1</td>\n",
       "    </tr>\n",
       "    <tr>\n",
       "      <th>000b0b6b104a36cbc6f31b923e1b31a7</th>\n",
       "      <td>1</td>\n",
       "    </tr>\n",
       "  </tbody>\n",
       "</table>\n",
       "</div>"
      ],
      "text/plain": [
       "                                 location_domain\n",
       "                                         nunique\n",
       "value_md5                                       \n",
       "000599fa6f59053c67e6ccbef137a0d2               1\n",
       "0005e12de9897336bf5c7e352a807568               1\n",
       "00076462ead16ac77a1d56745584fd5b               1\n",
       "0007a2345e42bca1d5cac86e356bb87b               1\n",
       "000b0b6b104a36cbc6f31b923e1b31a7               1"
      ]
     },
     "execution_count": 207,
     "metadata": {},
     "output_type": "execute_result"
    }
   ],
   "source": [
    "aggmd.head()"
   ]
  },
  {
   "cell_type": "code",
   "execution_count": 210,
   "metadata": {},
   "outputs": [],
   "source": [
    "f1 = aggmd['location_domain']['nunique'] > 1\n",
    "aggf = aggmd[f1]"
   ]
  },
  {
   "cell_type": "code",
   "execution_count": 215,
   "metadata": {},
   "outputs": [
    {
     "data": {
      "text/plain": [
       "35746"
      ]
     },
     "execution_count": 215,
     "metadata": {},
     "output_type": "execute_result"
    }
   ],
   "source": [
    "unique_values_count = len(aggmd)\n",
    "unique_values_count"
   ]
  },
  {
   "cell_type": "code",
   "execution_count": 218,
   "metadata": {},
   "outputs": [
    {
     "data": {
      "text/plain": [
       "(35, 35711)"
      ]
     },
     "execution_count": 218,
     "metadata": {},
     "output_type": "execute_result"
    }
   ],
   "source": [
    "values_multiple_origin = len(aggf)\n",
    "values_single_origin = unique_values_count - values_multiple_origin \n",
    "(values_multiple_origin, values_single_origin )"
   ]
  },
  {
   "cell_type": "code",
   "execution_count": 219,
   "metadata": {},
   "outputs": [
    {
     "data": {
      "text/plain": [
       "<matplotlib.axes._subplots.AxesSubplot at 0x11dcde7f0>"
      ]
     },
     "execution_count": 219,
     "metadata": {},
     "output_type": "execute_result"
    },
    {
     "data": {
      "image/png": "[encoded data removed]",
      "text/plain": [
       "<Figure size 432x432 with 1 Axes>"
      ]
     },
     "metadata": {},
     "output_type": "display_data"
    }
   ],
   "source": [
    "series = pd.Series([(values_multiple_origin), (values_single_origin)], index=['multiple', 'single'], name='Value Origin')\n",
    "series.plot.pie(figsize=(6, 6), autopct='%1.0f%%')"
   ]
  },
  {
   "cell_type": "markdown",
   "metadata": {},
   "source": [
    "## Conclusion\n",
    "The absolute most values have only one origin. Only 35 occurencies of the same value are found to have more than one domain origin. \n",
    "\n",
    ">The JSON values are always from the same location or related domains?\n",
    "\n",
    "Almost, 0,097% of the values have multiple origins, but 99,9% is only produced by one domain. \n",
    "\n",
    "---"
   ]
  },
  {
   "cell_type": "code",
   "execution_count": null,
   "metadata": {},
   "outputs": [],
   "source": []
  }
 ],
 "metadata": {
  "kernelspec": {
   "display_name": "Python 3",
   "language": "python",
   "name": "python3"
  },
  "language_info": {
   "codemirror_mode": {
    "name": "ipython",
    "version": 3
   },
   "file_extension": ".py",
   "mimetype": "text/x-python",
   "name": "python",
   "nbconvert_exporter": "python",
   "pygments_lexer": "ipython3",
   "version": "3.6.8"
  }
 },
 "nbformat": 4,
 "nbformat_minor": 2
}
